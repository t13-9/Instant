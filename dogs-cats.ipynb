{
 "cells": [
  {
   "cell_type": "code",
   "execution_count": 56,
   "metadata": {},
   "outputs": [],
   "source": [
    "import os\n",
    "import numpy as np\n",
    "import shutil\n",
    "import pandas as pd\n",
    "import matplotlib.pyplot as plt\n",
    "import seaborn as sns\n",
    "import matplotlib.image as mpimg\n",
    "from keras.preprocessing.image import ImageDataGenerator\n",
    "from sklearn.model_selection import train_test_split\n",
    "from keras import layers, models\n",
    "from keras.models import Sequential\n",
    "from keras.layers import Conv2D, MaxPooling2D, Flatten, Dense"
   ]
  },
  {
   "cell_type": "code",
   "execution_count": 57,
   "metadata": {},
   "outputs": [],
   "source": [
    "my_Model = Sequential(\n",
    "                        [\n",
    "                                layers.Conv2D(\n",
    "                                    filters = 32,\n",
    "                                    kernel_size = (3, 3),\n",
    "                                    input_shape = (32, 32, 3),\n",
    "                                    activation = 'relu'\n",
    "                                ),\n",
    "                       \n",
    "                                layers.MaxPooling2D(\n",
    "                                    pool_size = (2, 2)\n",
    "                                ),\n",
    "\n",
    "                                layers.Flatten(),\n",
    "\n",
    "                                layers.Dense(\n",
    "                                   units = 128, \n",
    "                                   activation = 'relu'\n",
    "                                ),\n",
    "\n",
    "                                layers.Dense(\n",
    "                                    units = 2, \n",
    "                                    activation = 'softmax'\n",
    "                                ),\n",
    "                        ]\n",
    "                    )\n"
   ]
  },
  {
   "cell_type": "code",
   "execution_count": 58,
   "metadata": {},
   "outputs": [],
   "source": [
    "my_Model.compile(\n",
    "    loss = 'categorical_crossentropy',\n",
    "    optimizer = 'adam',\n",
    "    metrics = 'accuracy'\n",
    ")"
   ]
  },
  {
   "cell_type": "code",
   "execution_count": 59,
   "metadata": {},
   "outputs": [],
   "source": [
    "import os\n",
    "path = 'Cat'\n",
    "files = os.listdir(path)"
   ]
  },
  {
   "cell_type": "code",
   "execution_count": null,
   "metadata": {},
   "outputs": [],
   "source": [
    "for index, dir in enumerate(files):\n",
    "    os.rename(os.path.join(path, dir), os.path.join(path, ''.join([('cat_image_' + str(index) + '.'), dir.split('.')[1]])))"
   ]
  },
  {
   "cell_type": "code",
   "execution_count": null,
   "metadata": {},
   "outputs": [],
   "source": [
    "path = 'Dog'\n",
    "files = os.listdir(path)\n",
    "\n",
    "for index, dir in enumerate(files):\n",
    "    os.rename(os.path.join(path, dir), os.path.join(path, ''.join([('dog_image_' + str(index) + '.'), dir.split('.')[1]])))\n"
   ]
  },
  {
   "cell_type": "code",
   "execution_count": null,
   "metadata": {},
   "outputs": [],
   "source": [
    "import shutil\n",
    "cat_dir = 'Cat'\n",
    "dog_dir = 'Dog'\n",
    "mkdir = 'new_dir'\n",
    "\n",
    "os.makedirs(mkdir, exist_ok=True)"
   ]
  },
  {
   "cell_type": "code",
   "execution_count": 61,
   "metadata": {},
   "outputs": [],
   "source": [
    "for item in os.listdir(cat_dir):\n",
    "    source_item = os.path.join(cat_dir, item)\n",
    "    destination_item = os.path.join(mkdir, item)\n",
    "    \n",
    "    if os.path.isdir(source_item):\n",
    "        shutil.copytree(source_item, destination_item)\n",
    "    else:\n",
    "        shutil.copy2(source_item, destination_item)\n",
    "\n",
    "for item in os.listdir(dog_dir):\n",
    "    source_item = os.path.join(dog_dir, item)\n",
    "    destination_item = os.path.join(mkdir, item)\n",
    "    \n",
    "    if os.path.isdir(source_item):\n",
    "        shutil.copytree(source_item, destination_item)\n",
    "    else:\n",
    "        shutil.copy2(source_item, destination_item)\n"
   ]
  },
  {
   "cell_type": "code",
   "execution_count": null,
   "metadata": {},
   "outputs": [],
   "source": [
    "valid_images"
   ]
  },
  {
   "cell_type": "code",
   "execution_count": 65,
   "metadata": {},
   "outputs": [],
   "source": [
    "import pandas as pd\n",
    "dir = os.listdir(mkdir)\n",
    "classes = []\n",
    "for imagename in valid_images:\n",
    "    group = imagename.split('\\\\')[1].split('_')[0]\n",
    "    if group == 'cat':\n",
    "        classes.append('cat')\n",
    "    else:\n",
    "        classes.append('dog')\n",
    "\n",
    "train_df = pd.DataFrame({\n",
    "    'image_id': valid_images,\n",
    "    'target': classes\n",
    "})\n"
   ]
  },
  {
   "cell_type": "code",
   "execution_count": null,
   "metadata": {},
   "outputs": [],
   "source": [
    "train_df"
   ]
  },
  {
   "cell_type": "code",
   "execution_count": 72,
   "metadata": {},
   "outputs": [],
   "source": [
    "train_df, validate_df = train_test_split(train_df, test_size=0.20, random_state=42)\n",
    "train_df = train_df.reset_index(drop=True)\n",
    "validate_df = validate_df.reset_index(drop=True)"
   ]
  },
  {
   "cell_type": "code",
   "execution_count": null,
   "metadata": {},
   "outputs": [],
   "source": [
    "train_df"
   ]
  },
  {
   "cell_type": "code",
   "execution_count": null,
   "metadata": {},
   "outputs": [],
   "source": [
    "validate_df"
   ]
  },
  {
   "cell_type": "code",
   "execution_count": 81,
   "metadata": {},
   "outputs": [
    {
     "name": "stdout",
     "output_type": "stream",
     "text": [
      "Found 15998 validated image filenames belonging to 2 classes.\n"
     ]
    }
   ],
   "source": [
    "train_img_generator = ImageDataGenerator(\n",
    "    rotation_range=15,\n",
    "    rescale=1./255,\n",
    "    shear_range=0.1,\n",
    "    zoom_range=0.2,\n",
    "    horizontal_flip=True,\n",
    "    width_shift_range=0.1,\n",
    "    height_shift_range=0.1\n",
    ")\n",
    "\n",
    "train_generator = train_img_generator.flow_from_dataframe(\n",
    "    train_df, \n",
    "    mkdir,\n",
    "    x_col='image_id',\n",
    "    y_col='target',\n",
    "    target_size=(32, 32),\n",
    "    class_mode='categorical',\n",
    "    batch_size= 15\n",
    ")"
   ]
  },
  {
   "cell_type": "code",
   "execution_count": 82,
   "metadata": {},
   "outputs": [
    {
     "name": "stdout",
     "output_type": "stream",
     "text": [
      "Found 4000 validated image filenames belonging to 2 classes.\n"
     ]
    }
   ],
   "source": [
    "validate_img_generator = ImageDataGenerator(rescale=1./255)\n",
    "validation_generator = validate_img_generator.flow_from_dataframe(\n",
    "    validate_df, \n",
    "    mkdir, \n",
    "    x_col='image_id',\n",
    "    y_col='target',\n",
    "    target_size=(32, 32),\n",
    "    class_mode='categorical',\n",
    "    batch_size= 15\n",
    ")"
   ]
  },
  {
   "cell_type": "code",
   "execution_count": 83,
   "metadata": {},
   "outputs": [],
   "source": [
    "train_count = train_df.shape[0]\n",
    "validate_count = validate_df.shape[0]"
   ]
  },
  {
   "cell_type": "code",
   "execution_count": 84,
   "metadata": {},
   "outputs": [
    {
     "name": "stdout",
     "output_type": "stream",
     "text": [
      "Epoch 1/20\n",
      "1066/1066 [==============================] - 81s 76ms/step - loss: 0.6287 - accuracy: 0.6453 - val_loss: 0.5916 - val_accuracy: 0.6697\n",
      "Epoch 2/20\n",
      "1066/1066 [==============================] - 26s 25ms/step - loss: 0.5956 - accuracy: 0.6766 - val_loss: 0.5738 - val_accuracy: 0.6955\n",
      "Epoch 3/20\n",
      "1066/1066 [==============================] - 27s 26ms/step - loss: 0.5827 - accuracy: 0.6923 - val_loss: 0.5334 - val_accuracy: 0.7321\n",
      "Epoch 4/20\n",
      "1066/1066 [==============================] - 27s 25ms/step - loss: 0.5720 - accuracy: 0.7014 - val_loss: 0.5390 - val_accuracy: 0.7308\n",
      "Epoch 5/20\n",
      "1066/1066 [==============================] - 28s 26ms/step - loss: 0.5620 - accuracy: 0.7094 - val_loss: 0.5464 - val_accuracy: 0.7238\n",
      "Epoch 6/20\n",
      "1066/1066 [==============================] - 27s 25ms/step - loss: 0.5530 - accuracy: 0.7178 - val_loss: 0.5151 - val_accuracy: 0.7466\n",
      "Epoch 7/20\n",
      "1066/1066 [==============================] - 27s 25ms/step - loss: 0.5457 - accuracy: 0.7235 - val_loss: 0.4959 - val_accuracy: 0.7491\n",
      "Epoch 8/20\n",
      "1066/1066 [==============================] - 27s 26ms/step - loss: 0.5374 - accuracy: 0.7283 - val_loss: 0.5456 - val_accuracy: 0.7231\n",
      "Epoch 9/20\n",
      "1066/1066 [==============================] - 27s 26ms/step - loss: 0.5312 - accuracy: 0.7328 - val_loss: 0.5150 - val_accuracy: 0.7479\n",
      "Epoch 10/20\n",
      "1066/1066 [==============================] - 27s 25ms/step - loss: 0.5268 - accuracy: 0.7412 - val_loss: 0.5052 - val_accuracy: 0.7586\n",
      "Epoch 11/20\n",
      "1066/1066 [==============================] - 27s 25ms/step - loss: 0.5208 - accuracy: 0.7404 - val_loss: 0.5708 - val_accuracy: 0.7120\n",
      "Epoch 12/20\n",
      "1066/1066 [==============================] - 27s 26ms/step - loss: 0.5182 - accuracy: 0.7408 - val_loss: 0.4815 - val_accuracy: 0.7692\n",
      "Epoch 13/20\n",
      "1066/1066 [==============================] - 27s 25ms/step - loss: 0.5105 - accuracy: 0.7512 - val_loss: 0.5098 - val_accuracy: 0.7566\n",
      "Epoch 14/20\n",
      "1066/1066 [==============================] - 27s 25ms/step - loss: 0.5062 - accuracy: 0.7499 - val_loss: 0.5537 - val_accuracy: 0.7378\n",
      "Epoch 15/20\n",
      "1066/1066 [==============================] - 27s 25ms/step - loss: 0.5026 - accuracy: 0.7504 - val_loss: 0.4886 - val_accuracy: 0.7652\n",
      "Epoch 16/20\n",
      "1066/1066 [==============================] - 27s 25ms/step - loss: 0.4987 - accuracy: 0.7571 - val_loss: 0.4823 - val_accuracy: 0.7757\n",
      "Epoch 17/20\n",
      "1066/1066 [==============================] - 27s 25ms/step - loss: 0.4931 - accuracy: 0.7611 - val_loss: 0.4825 - val_accuracy: 0.7759\n",
      "Epoch 18/20\n",
      "1066/1066 [==============================] - 27s 25ms/step - loss: 0.4864 - accuracy: 0.7627 - val_loss: 0.4750 - val_accuracy: 0.7734\n",
      "Epoch 19/20\n",
      "1066/1066 [==============================] - 27s 25ms/step - loss: 0.4870 - accuracy: 0.7633 - val_loss: 0.4909 - val_accuracy: 0.7649\n",
      "Epoch 20/20\n",
      "1066/1066 [==============================] - 27s 25ms/step - loss: 0.4807 - accuracy: 0.7723 - val_loss: 0.4814 - val_accuracy: 0.7717\n"
     ]
    }
   ],
   "source": [
    "his = my_Model.fit(\n",
    "    train_generator, \n",
    "    epochs = 20,\n",
    "    validation_data = validation_generator,\n",
    "    validation_steps = validate_count//15,\n",
    "    steps_per_epoch = train_count//15\n",
    ")"
   ]
  },
  {
   "cell_type": "code",
   "execution_count": null,
   "metadata": {},
   "outputs": [],
   "source": []
  }
 ],
 "metadata": {
  "kernelspec": {
   "display_name": "Python 3",
   "language": "python",
   "name": "python3"
  },
  "language_info": {
   "codemirror_mode": {
    "name": "ipython",
    "version": 3
   },
   "file_extension": ".py",
   "mimetype": "text/x-python",
   "name": "python",
   "nbconvert_exporter": "python",
   "pygments_lexer": "ipython3",
   "version": "3.11.4"
  },
  "orig_nbformat": 4
 },
 "nbformat": 4,
 "nbformat_minor": 2
}
